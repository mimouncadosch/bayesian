{
 "cells": [
  {
   "cell_type": "markdown",
   "metadata": {},
   "source": [
    "# Developing Intuitions"
   ]
  },
  {
   "cell_type": "markdown",
   "metadata": {},
   "source": [
    "## Updating posteriors in 1D"
   ]
  },
  {
   "cell_type": "markdown",
   "metadata": {},
   "source": [
    "### Prior distribution:\n",
    "\n",
    "Possible values of parameter $\\mu$ are normally distributed:\n",
    "$$P(\\mu) \\sim \\mathcal{N}( \\mu_{prior}, \\ \\sigma_{prior} ) $$"
   ]
  },
  {
   "cell_type": "markdown",
   "metadata": {},
   "source": [
    "Range of possible $$\\mu = \\mu_0, ..., \\mu_n$$\n",
    "Range of data points: $$X = x_0, ..., x_m$$"
   ]
  },
  {
   "cell_type": "markdown",
   "metadata": {},
   "source": [
    "### Likelihood\n",
    "Assume the that the data is normally distributed as well.\n",
    "$$X \\;|\\; \\mu_i \\sim \\mathcal{N}(\\mu_i, \\ \\sigma_{fixed})$$"
   ]
  },
  {
   "cell_type": "markdown",
   "metadata": {},
   "source": [
    "* For $i$ = 0...$n$:  \n",
    "    + Possible $\\mu$: $\\mu_i$.\n",
    "    + Likelihood of data given $\\mu_i$: $$P(X \\;|\\; \\mu_i) = P(x_0, ..., x_m \\;|\\; \\mu_i) = \\prod_{j=0}^m P(x_j\\;|\\;\\mu_i)$$"
   ]
  },
  {
   "cell_type": "markdown",
   "metadata": {},
   "source": [
    "### Total probability\n",
    "$$\n",
    "\\begin{aligned}\n",
    "P(X) &= P(X\\;|\\; \\mu_0) P(\\mu_0) + ... + P(X\\;|\\; \\mu_n) P(\\mu_n)\\\\\n",
    "     &= P(x_0, ..., x_m\\;|\\; \\mu_0) P(\\mu_0) + ... + P(x_0, ..., x_m\\;|\\; \\mu_n) P(\\mu_n)\\\\\n",
    "     &= [\\; P(x_0\\;|\\; \\mu_0) ... P(x_m\\;|\\; \\mu_0) \\;]\\;P(\\mu_0) + ... + [\\; P(x_0\\;|\\; \\mu_n) ... P(x_m\\;|\\; \\mu_n)\\;]\\;P(\\mu_n)\\\\\n",
    "     &= \\sum_{i=0}^n [\\; \\prod_{j=0}^m P(x_j \\;|\\; \\mu_i) \\;] \\;P(\\mu_i)\n",
    "\\end{aligned}\n",
    "$$"
   ]
  },
  {
   "cell_type": "markdown",
   "metadata": {},
   "source": [
    "### Computation: in the same for loop\n",
    "Set $P(X) = 0$\n",
    "* For $i$ = 0...$n$:\n",
    "    + Compute $P(X\\;|\\; \\mu_i)$ // likelihood\n",
    "    + Compute $P(\\mu_i)$ // prior: $P(\\mu_i \\;|\\; \\mu_{prior}, \\sigma_{prior})$\n",
    "    + $P(X) = P(X) + P(X \\;|\\; \\mu_i) P(\\mu_i)$\n",
    "   \n",
    "After for loop, you have: likelihood, total probability. \n",
    "Compute any posterior for $\\mu_i$: \n",
    "$$P(\\mu_i \\;|\\; X) = P(X \\;|\\; \\mu_i) \\; P(\\mu_i)$$"
   ]
  },
  {
   "cell_type": "code",
   "execution_count": 1,
   "metadata": {
    "collapsed": false
   },
   "outputs": [
    {
     "data": {
      "image/png": "[encoded data removed]",
      "text/plain": [
       "<matplotlib.figure.Figure at 0x1059d8e50>"
      ]
     },
     "metadata": {},
     "output_type": "display_data"
    }
   ],
   "source": [
    "## %matplotlib inline\n",
    "import scipy.stats as stats\n",
    "from IPython.core.pylabtools import figsize\n",
    "import numpy as np\n",
    "figsize(12.5, 4)\n",
    "import matplotlib.pyplot as plt\n",
    "\n",
    "mus = np.linspace(-3, 3, 100)\n",
    "\n",
    "scale_prior = 0.3\n",
    "mu_prior = 0.3\n",
    "priors = stats.norm.pdf(mus, loc=mu_prior, scale=scale_prior)\n",
    "\n",
    "scale_true = 0.3\n",
    "mu_true = 0.5\n",
    "data = stats.norm.rvs(loc=mu_true, scale=scale_true, size=(40,1))\n",
    "\n",
    "# Joint likelihoods: P(X | mu) (where scale is fixed)\n",
    "likelihoods = np.zeros(mus.shape)\n",
    "# Total probability: P(X) = P(X|mu) P(mu)\n",
    "total_probability = 0\n",
    "\n",
    "for idx, mu in enumerate(mus):\n",
    "    # Compute likelihood vector: [ P(X | mu) ] = [ P(x1, ..., xn | mu) ] = [ P(x1 | mu), ..., P(xn | mu) ]\n",
    "    likelihood_vector = stats.norm.pdf(data, loc=mu, scale=scale_true)\n",
    "    # Compute joint likelihood: P(X | mu) = P(x1, ..., xn | mu) = P(x1 | mu) ... P(xn | mu)\n",
    "    likelihood = np.array( likelihood_vector ).prod()\n",
    "    # Joint likelihood for plotting\n",
    "    likelihoods[idx] = likelihood\n",
    "    \n",
    "    # P(mu)\n",
    "    p_mu = priors[idx]\n",
    "    # P(X) = P(X | mu) * P(mu)\n",
    "    total_probability += likelihood * p_mu\n",
    "    \n",
    "# Normalized posterior\n",
    "posteriors = priors * likelihoods / total_probability\n",
    "\n",
    "figsize(8, 4)\n",
    "plt.xlabel('$\\mu$')\n",
    "plt.ylabel('$P(\\mu)$')\n",
    "plt.plot(mus, priors, c='r', ls='--', label='Prior $P(\\mu)$')\n",
    "plt.plot(mus, posteriors, c='y', ls='--', label='Posterior $P(\\mu \\;|\\; X)$')\n",
    "plt.axvline(mu_true, c='m', ls='--', label='$\\mu_{true}$')\n",
    "plt.legend(loc='upper left')\n",
    "plt.show()"
   ]
  }
 ],
 "metadata": {
  "kernelspec": {
   "display_name": "Python 2",
   "language": "python",
   "name": "python2"
  },
  "language_info": {
   "codemirror_mode": {
    "name": "ipython",
    "version": 2
   },
   "file_extension": ".py",
   "mimetype": "text/x-python",
   "name": "python",
   "nbconvert_exporter": "python",
   "pygments_lexer": "ipython2",
   "version": "2.7.13"
  },
  "varInspector": {
   "cols": {
    "lenName": 16,
    "lenType": 16,
    "lenVar": 40
   },
   "kernels_config": {
    "python": {
     "delete_cmd_postfix": "",
     "delete_cmd_prefix": "del ",
     "library": "var_list.py",
     "varRefreshCmd": "print(var_dic_list())"
    },
    "r": {
     "delete_cmd_postfix": ") ",
     "delete_cmd_prefix": "rm(",
     "library": "var_list.r",
     "varRefreshCmd": "cat(var_dic_list()) "
    }
   },
   "types_to_exclude": [
    "module",
    "function",
    "builtin_function_or_method",
    "instance",
    "_Feature"
   ],
   "window_display": false
  }
 },
 "nbformat": 4,
 "nbformat_minor": 2
}
